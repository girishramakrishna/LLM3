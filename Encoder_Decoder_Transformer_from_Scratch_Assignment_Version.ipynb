{
  "nbformat": 4,
  "nbformat_minor": 0,
  "metadata": {
    "colab": {
      "provenance": [],
      "machine_shape": "hm",
      "gpuType": "A100",
      "include_colab_link": true
    },
    "kernelspec": {
      "name": "python3",
      "display_name": "Python 3"
    },
    "language_info": {
      "name": "python"
    },
    "accelerator": "GPU"
  },
  "cells": [
    {
      "cell_type": "markdown",
      "metadata": {
        "id": "view-in-github",
        "colab_type": "text"
      },
      "source": [
        "<a href=\"https://colab.research.google.com/github/girishramakrishna/SLMs/blob/main/Encoder_Decoder_Transformer_from_Scratch_Assignment_Version.ipynb\" target=\"_parent\"><img src=\"https://colab.research.google.com/assets/colab-badge.svg\" alt=\"Open In Colab\"/></a>"
      ]
    },
    {
      "cell_type": "markdown",
      "source": [
        "# Encoder-Decoder Transformer Model from Scratch in PyTorch\n",
        "\n",
        "In today's notebook, we'll be focusing on two major components of transformers:\n",
        "\n",
        "1. The Building Blocks\n",
        "2. Training the Model\n",
        "\n",
        "As a brunt of the in-class time will be spent on the building blocks, we'll leave the training logic as an assignment to complete. We'll be focusing more specifically on training once we start using decoder-only architectures."
      ],
      "metadata": {
        "id": "9ZwKP3f2HGz9"
      }
    },
    {
      "cell_type": "markdown",
      "source": [
        "# The Building Block Fundamentals of Transformer Architecture\n",
        "\n",
        "We're going to start with an example of an encoder-decoder model - the kind found in the classic paper:\n",
        "\n",
        "[Attention is All You Need](https://arxiv.org/pdf/1706.03762.pdf).\n",
        "\n",
        "We'll walk through each step in code - leveraging the [PyTorch]() library heavily - in order to get an idea of how these models work.\n",
        "\n",
        "While this example notebook could be extended to a sincere usecase - we'll be using a toy dataset, and we will not fully train the model until it converges (under-train), as the full training process might take many days!"
      ],
      "metadata": {
        "id": "Z43kfJGvlQyA"
      }
    },
    {
      "cell_type": "markdown",
      "source": [
        "## The Desired Architecture\n",
        "\n",
        "![image](https://i.imgur.com/YPjbqW6.png)\n",
        "\n",
        "We'll skip over the diagram for now, and talk through each component in detail!"
      ],
      "metadata": {
        "id": "_sd2KYudl0Hn"
      }
    },
    {
      "cell_type": "code",
      "source": [
        "import torch\n",
        "import torch.nn as nn\n",
        "import math"
      ],
      "metadata": {
        "id": "TPUnyvsuovuP"
      },
      "execution_count": null,
      "outputs": []
    },
    {
      "cell_type": "markdown",
      "source": [
        "## Embedding\n",
        "\n",
        "![image](https://i.imgur.com/sFlEZ2e.png)\n",
        "\n",
        "The first step will be do convert our tokenized sequence of inputs into an embedding vector. This allows use to understand a rich amount of information about input sequences and their semantic meanings.\n",
        "\n",
        "As the embedding layer will be training along side the rest of the model - it will allow us to have an excellent vector-representation of the tokens in our dataset.\n",
        "\n",
        "Let's see how it looks in code!"
      ],
      "metadata": {
        "id": "JR8M3oT0l8fM"
      }
    },
    {
      "cell_type": "code",
      "source": [
        "class InputEmbeddings(nn.Module):\n",
        "  def __init__(self, d_model: int, vocab_size: int, verbose=False) -> None:\n",
        "    \"\"\"\n",
        "    vocab_size - the size of our vocabulary\n",
        "    d_model - the dimension of our embeddings and the input dimension for our model\n",
        "    \"\"\"\n",
        "    super().__init__()\n",
        "    self.vocab_size = vocab_size\n",
        "    self.d_model = d_model\n",
        "    self.embedding = nn.Embedding(vocab_size, d_model)\n",
        "    self.verbose = verbose\n",
        "\n",
        "  def forward(self, x):\n",
        "    if self.verbose:\n",
        "      print(f\"Embedding Vector (1st 5 elements): {self.embedding(x)[:5] * math.sqrt(self.d_model)}\")\n",
        "    return self.embedding(x) * math.sqrt(self.d_model) # scale embeddings by square root of d_model"
      ],
      "metadata": {
        "id": "ddpQjPJWmXZg"
      },
      "execution_count": null,
      "outputs": []
    },
    {
      "cell_type": "markdown",
      "source": [
        "### Test Embedding Layer\n",
        "\n",
        "We'll set up a sample Embedding Layer and then test that it does what we'd expect!"
      ],
      "metadata": {
        "id": "ZCx8DYkaxwto"
      }
    },
    {
      "cell_type": "code",
      "source": [
        "def test_input_embeddings_with_example():\n",
        "    # Create a small embedding layer\n",
        "    embed = InputEmbeddings(d_model=512, vocab_size=1000)\n",
        "\n",
        "    # Example sentence tokens (simplified)\n",
        "    tokens = torch.tensor([[1, 2, 3, 4, 5]])  # \"The cat sat down quickly\"\n",
        "\n",
        "    output = embed(tokens)\n",
        "    print(f\"Input shape: {tokens.shape}\")\n",
        "    print(f\"Output shape: {output.shape}\")\n",
        "    print(\"\\nExample shows how words are converted to high-dimensional vectors\")\n",
        "\n",
        "    # Run technical test\n",
        "    assert output.shape == (1, 5, 512), f\"Expected shape (1, 5, 512), got {output.shape}\"\n",
        "    print(\"✓ Input Embeddings Test Passed\")"
      ],
      "metadata": {
        "id": "xl9VdXuYwfVU"
      },
      "execution_count": null,
      "outputs": []
    },
    {
      "cell_type": "code",
      "source": [
        "test_input_embeddings_with_example()"
      ],
      "metadata": {
        "colab": {
          "base_uri": "https://localhost:8080/"
        },
        "id": "CBIElPiqxORa",
        "outputId": "fadf1dfb-ba9e-4323-b424-8cc8935051d4"
      },
      "execution_count": null,
      "outputs": [
        {
          "output_type": "stream",
          "name": "stdout",
          "text": [
            "Input shape: torch.Size([1, 5])\n",
            "Output shape: torch.Size([1, 5, 512])\n",
            "\n",
            "Example shows how words are converted to high-dimensional vectors\n",
            "✓ Input Embeddings Test Passed\n"
          ]
        }
      ]
    },
    {
      "cell_type": "markdown",
      "source": [
        "## Positional Encoding\n",
        "\n",
        "![image](https://i.imgur.com/IIA3NK3.png)\n",
        "\n",
        "We need to impart information about where each token is in the sequence, but we aren't using any recurrence or convolutions - the easiest way to encode positional information is to inject positional information into our input embeddings.\n",
        "\n",
        "We're going to use the process outlined in the paper to do this - which is to use a specific combination of functions to add positional information to the embeddings."
      ],
      "metadata": {
        "id": "ra5KCa1KnfrC"
      }
    },
    {
      "cell_type": "code",
      "source": [
        "class PositionalEncoding(nn.Module):\n",
        "  def __init__(self, d_model: int, seq_len: int, dropout: float, verbose=False) -> None:\n",
        "    super().__init__()\n",
        "    self.d_model = d_model\n",
        "    self.seq_len = seq_len\n",
        "    self.dropout = nn.Dropout(dropout)\n",
        "    self.verbose=verbose\n",
        "\n",
        "    positional_embeddings = torch.zeros(seq_len, d_model)\n",
        "    positional_sequence_vector = torch.arange(0, seq_len, dtype=torch.float).unsqueeze(1)\n",
        "    positional_model_vector = torch.exp(torch.arange(0, d_model, 2).float() * (-math.log(10000.0) / d_model))\n",
        "    positional_embeddings[:, 0::2] = torch.sin(positional_sequence_vector * positional_model_vector)\n",
        "    positional_embeddings[:, 1::2] = torch.cos(positional_sequence_vector * positional_model_vector)\n",
        "    positional_embeddings = positional_embeddings.unsqueeze(0)\n",
        "\n",
        "    self.register_buffer('positional_embeddings', positional_embeddings)\n",
        "\n",
        "  def forward(self, x):\n",
        "    x = x + (self.positional_embeddings[:, :x.shape[1], :]).requires_grad_(False)\n",
        "    if self.verbose:\n",
        "      print(f\"Positional Encodings (1st 5 elements): {x}\")\n",
        "    return self.dropout(x)"
      ],
      "metadata": {
        "id": "5K3NXh7MoM5D"
      },
      "execution_count": null,
      "outputs": []
    },
    {
      "cell_type": "markdown",
      "source": [
        "### Test Positional Encoding Layer\n",
        "\n",
        "We'll set up a sample Positional Encoding Layer and then test that it does what we'd expect!"
      ],
      "metadata": {
        "id": "zkcMmoT2yOZs"
      }
    },
    {
      "cell_type": "code",
      "source": [
        "def test_positional_encoding_with_example():\n",
        "    pos = PositionalEncoding(d_model=512, seq_len=10, dropout=0.1)\n",
        "\n",
        "    # Create sample embeddings for \"The cat sat\"\n",
        "    x = torch.randn(1, 3, 512)\n",
        "\n",
        "    output = pos(x)\n",
        "    print(\"Input tokens position:  [1, 2, 3]\")\n",
        "    print(\"Added position info to each word's embedding\")\n",
        "    print(f\"Output maintains shape: {output.shape}\")\n",
        "\n",
        "    # Verify position information was added\n",
        "    assert not torch.allclose(output, x), \"Position information should modify embeddings\"\n",
        "    print(\"✓ Positional Encoding Test Passed\")"
      ],
      "metadata": {
        "id": "ayoWMbSYySBp"
      },
      "execution_count": null,
      "outputs": []
    },
    {
      "cell_type": "code",
      "source": [
        "test_positional_encoding_with_example()"
      ],
      "metadata": {
        "colab": {
          "base_uri": "https://localhost:8080/"
        },
        "id": "Z4hDXJaGyU5M",
        "outputId": "e4f9b835-56b4-4e10-a012-2405368d1be0"
      },
      "execution_count": null,
      "outputs": [
        {
          "output_type": "stream",
          "name": "stdout",
          "text": [
            "Input tokens position:  [1, 2, 3]\n",
            "Added position info to each word's embedding\n",
            "Output maintains shape: torch.Size([1, 3, 512])\n",
            "✓ Positional Encoding Test Passed\n"
          ]
        }
      ]
    },
    {
      "cell_type": "markdown",
      "source": [
        "## Add & Norm\n",
        "\n",
        "Next we'll tackle the Add & Norm Block of the diagram.\n",
        "\n",
        "![image](https://i.imgur.com/otdEq4D.png)"
      ],
      "metadata": {
        "id": "ueiM7LzKpcFY"
      }
    },
    {
      "cell_type": "markdown",
      "source": [
        "### Layer Normalization\n",
        "\n",
        "The first step is to add layer normalization. You can read more about it [here](https://paperswithcode.com/method/layer-normalization)!\n",
        "\n",
        "The basic idea is that it makes training the model a bit easier, and allows the model to generalize a bit better."
      ],
      "metadata": {
        "id": "_lDABPLSKqOt"
      }
    },
    {
      "cell_type": "code",
      "source": [
        "class LayerNormalization(nn.Module):\n",
        "  def __init__(self, features: int, epsilon:float=10**-6) -> None:\n",
        "    super().__init__()\n",
        "    self.epsilon = epsilon\n",
        "    self.gamma = nn.Parameter(torch.ones(features))\n",
        "    self.beta = nn.Parameter(torch.zeros(features))\n",
        "\n",
        "  def forward(self, x):\n",
        "    mean = x.mean(dim = -1, keepdim = True)\n",
        "    standard_deviation = x.std(dim = -1, keepdim = True)\n",
        "    return self.gamma * (x - mean) / (standard_deviation + self.epsilon) + self.beta"
      ],
      "metadata": {
        "id": "1Nlv7BH7ruSf"
      },
      "execution_count": null,
      "outputs": []
    },
    {
      "cell_type": "markdown",
      "source": [
        "### Test Layer Normalization\n",
        "\n",
        "We'll set up a sample Layer Normalization and then test that it does what we'd expect!"
      ],
      "metadata": {
        "id": "vft5kFUBy1aE"
      }
    },
    {
      "cell_type": "code",
      "source": [
        "def test_layer_normalization_with_example():\n",
        "    layer_norm = LayerNormalization(features=3)  # Smaller feature size for example\n",
        "\n",
        "    # Simulate word embeddings with different magnitudes\n",
        "    word_embeddings = torch.tensor([\n",
        "        [2.5, 4.1, -3.2],  # \"The\" (high magnitude)\n",
        "        [0.1, 0.2, -0.1],  # \"cat\" (low magnitude)\n",
        "        [8.2, -6.1, 5.5]   # \"sat\" (very high magnitude)\n",
        "    ]).unsqueeze(0)\n",
        "\n",
        "    normalized = layer_norm(word_embeddings)\n",
        "\n",
        "    print(\"Before normalization (magnitudes vary greatly):\")\n",
        "    print(word_embeddings[0])\n",
        "    print(\"\\nAfter normalization (values scaled to similar ranges):\")\n",
        "    print(normalized[0])\n",
        "\n",
        "    # Verify statistical properties\n",
        "    mean = normalized.mean(dim=-1)\n",
        "    var = normalized.var(dim=-1)\n",
        "    assert torch.allclose(mean, torch.zeros_like(mean), atol=1e-5)\n",
        "    assert torch.allclose(var, torch.ones_like(var), atol=1e-5)\n",
        "    print(\"✓ Layer Normalization Test Passed\")"
      ],
      "metadata": {
        "id": "01Llr9cwy7C2"
      },
      "execution_count": null,
      "outputs": []
    },
    {
      "cell_type": "code",
      "source": [
        "test_layer_normalization_with_example()"
      ],
      "metadata": {
        "colab": {
          "base_uri": "https://localhost:8080/"
        },
        "id": "75hToLCry9mR",
        "outputId": "57d5efec-67d5-45a6-8127-66554eebbaff"
      },
      "execution_count": null,
      "outputs": [
        {
          "output_type": "stream",
          "name": "stdout",
          "text": [
            "Before normalization (magnitudes vary greatly):\n",
            "tensor([[ 2.5000,  4.1000, -3.2000],\n",
            "        [ 0.1000,  0.2000, -0.1000],\n",
            "        [ 8.2000, -6.1000,  5.5000]])\n",
            "\n",
            "After normalization (values scaled to similar ranges):\n",
            "tensor([[ 0.3562,  0.7732, -1.1293],\n",
            "        [ 0.2182,  0.8729, -1.0911],\n",
            "        [ 0.7459, -1.1363,  0.3905]], grad_fn=<SelectBackward0>)\n",
            "✓ Layer Normalization Test Passed\n"
          ]
        }
      ]
    },
    {
      "cell_type": "markdown",
      "source": [
        "### Residual Connection\n",
        "\n",
        "Another technique that makes model training easier, we add a Residual connection to the outputs of the Attention Block - this helps to prevent vanishing gradient."
      ],
      "metadata": {
        "id": "rwXt7KKKycrl"
      }
    },
    {
      "cell_type": "code",
      "source": [
        "class ResidualConnection(nn.Module):\n",
        "  def __init__(self, features: int, dropout: float = 0.1) -> None:\n",
        "    super().__init__()\n",
        "    self.dropout = nn.Dropout(dropout)\n",
        "    self.layernorm = LayerNormalization(features)\n",
        "\n",
        "  def forward(self, x, sublayer):\n",
        "    return x + self.dropout(sublayer(self.layernorm(x)))"
      ],
      "metadata": {
        "id": "XKwGFD2-yd-Z"
      },
      "execution_count": null,
      "outputs": []
    },
    {
      "cell_type": "markdown",
      "source": [
        "### Testing Residual Connection\n",
        "\n",
        "We'll set up a sample Residual Connection and then test that it does what we'd expect!"
      ],
      "metadata": {
        "id": "p668YYgBzc3G"
      }
    },
    {
      "cell_type": "code",
      "source": [
        "def test_residual_connection_with_example():\n",
        "    residual = ResidualConnection(features=3, dropout=0.1)\n",
        "\n",
        "    # Original input \"The cat\"\n",
        "    x = torch.tensor([\n",
        "        [1.0, 1.0, 1.0],\n",
        "        [2.0, 2.0, 2.0]\n",
        "    ]).unsqueeze(0)\n",
        "\n",
        "    # Sublayer that makes meaningful changes\n",
        "    def sublayer(x):\n",
        "        return torch.nn.functional.relu(x + 0.5) # Non-linear transformation\n",
        "\n",
        "    output = residual(x, sublayer)\n",
        "\n",
        "    print(\"Original input:\")\n",
        "    print(x[0])\n",
        "    print(\"\\nAfter residual connection (combines original + transformed):\")\n",
        "    print(output[0])\n",
        "\n",
        "    # Verify output changed but maintained shape\n",
        "    assert output.shape == x.shape\n",
        "    assert torch.any(torch.abs(output - x) > 1e-6), \"Output should differ from input\"\n",
        "    print(\"✓ Residual Connection Test Passed\")"
      ],
      "metadata": {
        "id": "heebV5mIzje4"
      },
      "execution_count": null,
      "outputs": []
    },
    {
      "cell_type": "code",
      "source": [
        "test_residual_connection_with_example()"
      ],
      "metadata": {
        "colab": {
          "base_uri": "https://localhost:8080/"
        },
        "id": "YZMF65cmzmgx",
        "outputId": "ce42971d-35b7-41a8-8671-bfe2fdb17d11"
      },
      "execution_count": null,
      "outputs": [
        {
          "output_type": "stream",
          "name": "stdout",
          "text": [
            "Original input:\n",
            "tensor([[1., 1., 1.],\n",
            "        [2., 2., 2.]])\n",
            "\n",
            "After residual connection (combines original + transformed):\n",
            "tensor([[1.5556, 1.5556, 1.5556],\n",
            "        [2.5556, 2.5556, 2.5556]], grad_fn=<SelectBackward0>)\n",
            "✓ Residual Connection Test Passed\n"
          ]
        }
      ]
    },
    {
      "cell_type": "markdown",
      "source": [
        "## Feed Forward Network\n",
        "\n",
        "![image](https://i.imgur.com/woEqBjQ.png)\n",
        "\n",
        "Moving onto the next component, we have our feed forward network.\n",
        "\n",
        "The feed forward networks servers two purposes in our model:\n",
        "\n",
        "1. It reforms the attention outputs into a format that works with the next block.\n",
        "\n",
        "2. It helps add complexity to prevent each attention block acting in a similar fashion."
      ],
      "metadata": {
        "id": "IIOZp3xhsaXK"
      }
    },
    {
      "cell_type": "code",
      "source": [
        "class FeedForwardBlock(nn.Module):\n",
        "  def __init__(self, d_model: int, d_ff: int = 2048, dropout: float = 0.1) -> None:\n",
        "    \"\"\"\n",
        "    d_model - dimension of model\n",
        "    d_ff - dimension of feed forward network\n",
        "    dropout - regularization measure\n",
        "    \"\"\"\n",
        "    super().__init__()\n",
        "    self.linear_1 = nn.Linear(d_model, d_ff)\n",
        "    self.dropout = nn.Dropout(dropout)\n",
        "    self.linear_2 = nn.Linear(d_ff, d_model)\n",
        "\n",
        "  def forward(self, x):\n",
        "    return self.linear_2(self.dropout(torch.relu(self.linear_1(x))))"
      ],
      "metadata": {
        "id": "JueNG2UBszbR"
      },
      "execution_count": null,
      "outputs": []
    },
    {
      "cell_type": "markdown",
      "source": [
        "### Testing the Feed-forward Block\n",
        "\n",
        "Let's test!"
      ],
      "metadata": {
        "id": "cU-H1m4L0UhY"
      }
    },
    {
      "cell_type": "code",
      "source": [
        "def test_feed_forward_block_with_example():\n",
        "   ff_block = FeedForwardBlock(d_model=3, d_ff=8)  # Small dimensions for demonstration\n",
        "\n",
        "   # Input: Word embeddings for \"The cat\"\n",
        "   x = torch.tensor([\n",
        "       [1.0, 0.5, 0.2],  # \"The\"\n",
        "       [2.0, -0.3, 1.1]  # \"cat\"\n",
        "   ]).unsqueeze(0)\n",
        "\n",
        "   output = ff_block(x)\n",
        "\n",
        "   print(\"Input embeddings:\")\n",
        "   print(x[0])\n",
        "   print(\"\\nAfter feed-forward transformation:\")\n",
        "   print(output[0])\n",
        "\n",
        "   # First linear layer expands to d_ff dimensions\n",
        "   # ReLU keeps only positive values\n",
        "   # Second linear layer projects back to d_model dimensions\n",
        "   assert output.shape == x.shape\n",
        "   assert not torch.allclose(output, x)\n",
        "   print(\"✓ Feed Forward Block Test Passed\")"
      ],
      "metadata": {
        "id": "pwtbsJou0fxz"
      },
      "execution_count": null,
      "outputs": []
    },
    {
      "cell_type": "code",
      "source": [
        "test_feed_forward_block_with_example()"
      ],
      "metadata": {
        "colab": {
          "base_uri": "https://localhost:8080/"
        },
        "id": "IMHE9fWB0hj3",
        "outputId": "fbe3880a-96f7-4594-a148-840d4930bdd7"
      },
      "execution_count": null,
      "outputs": [
        {
          "output_type": "stream",
          "name": "stdout",
          "text": [
            "Input embeddings:\n",
            "tensor([[ 1.0000,  0.5000,  0.2000],\n",
            "        [ 2.0000, -0.3000,  1.1000]])\n",
            "\n",
            "After feed-forward transformation:\n",
            "tensor([[-0.0435, -0.5648, -0.2270],\n",
            "        [-0.1795, -0.7580, -0.3573]], grad_fn=<SelectBackward0>)\n",
            "✓ Feed Forward Block Test Passed\n"
          ]
        }
      ]
    },
    {
      "cell_type": "markdown",
      "source": [
        "## Multi-Head Attention\n",
        "\n",
        "![image](https://i.imgur.com/4qOT46y.png)\n",
        "\n",
        "Next up is the heart and soul of the Transformer - Multi-Head Attention.\n",
        "\n",
        "We'll break it down into the basic building blocks in code in the following section!"
      ],
      "metadata": {
        "id": "bJ5EGkvdtP0O"
      }
    },
    {
      "cell_type": "markdown",
      "source": [
        "### Multi-Head Attention Class\n",
        "\n"
      ],
      "metadata": {
        "id": "-Oto52ZyvX0k"
      }
    },
    {
      "cell_type": "code",
      "source": [
        "class MultiHeadAttention(nn.Module):\n",
        "  def __init__(self, d_model: int = 512, num_heads: int = 8, dropout: float = 0.1) -> None:\n",
        "    super().__init__()\n",
        "    self.d_model = d_model\n",
        "    self.num_heads = num_heads\n",
        "    assert d_model % num_heads == 0, \"d_model is not divisible by h\"\n",
        "\n",
        "    self.d_k = d_model // num_heads\n",
        "\n",
        "    self.w_q = nn.Linear(d_model, d_model, bias=False)\n",
        "    self.w_k = nn.Linear(d_model, d_model, bias=False)\n",
        "    self.w_v = nn.Linear(d_model, d_model, bias=False)\n",
        "\n",
        "    self.w_o = nn.Linear(d_model, d_model, bias=False)\n",
        "\n",
        "    self.dropout = nn.Dropout(dropout)"
      ],
      "metadata": {
        "id": "mDHkw1f_vmuv"
      },
      "execution_count": null,
      "outputs": []
    },
    {
      "cell_type": "markdown",
      "source": [
        "### 👪❓Discussion Question 1:\n",
        "\n",
        "Describe, in your own words, intuitively what each of `Q`, `K`, and `V` represent - beyond their names and functions.\n",
        "\n",
        "Discuss among your group!\n",
        "\n",
        "There is no single correct answer - and if you get stuck - feel free to ask your favourite Large Language Model!"
      ],
      "metadata": {
        "id": "dEm7I6iwMiom"
      }
    },
    {
      "cell_type": "markdown",
      "source": [
        "### Testing Multi-Head Attention\n",
        "\n",
        "Let's test it out!"
      ],
      "metadata": {
        "id": "9dp3eM7H1cRl"
      }
    },
    {
      "cell_type": "markdown",
      "source": [
        "### Scaled Dot-Product Attention\n",
        "\n",
        "![image](https://i.imgur.com/Yp48DuB.png)"
      ],
      "metadata": {
        "id": "FyD7nAM6tb0K"
      }
    },
    {
      "cell_type": "code",
      "source": [
        "def attention(query, key, value, mask, d_k, dropout: nn.Dropout = None):\n",
        "  attention_scores = (query @ key.transpose(-2, -1)) / math.sqrt(d_k)\n",
        "\n",
        "  if mask is not None:\n",
        "    attention_scores.masked_fill_(mask == 0, -1e9)\n",
        "\n",
        "  attention_scores = attention_scores.softmax(dim=-1)\n",
        "\n",
        "  if dropout is not None:\n",
        "    attention_scores = dropout(attention_scores)\n",
        "\n",
        "  return (attention_scores @ value), attention_scores"
      ],
      "metadata": {
        "id": "dKk08SvowJIc"
      },
      "execution_count": null,
      "outputs": []
    },
    {
      "cell_type": "markdown",
      "source": [
        "### ❓Question 1:\n",
        "\n",
        "Describe the above code that defines the attension mechanism.\n",
        "\n",
        "Write, in natural language, what each step is doing."
      ],
      "metadata": {
        "id": "qphuqoXl-1jW"
      }
    },
    {
      "cell_type": "markdown",
      "source": [
        "### Forward Method\n",
        "\n",
        "This is code is required to do a forward pass with our model."
      ],
      "metadata": {
        "id": "Ac8k7b3SxKOC"
      }
    },
    {
      "cell_type": "code",
      "source": [
        "def forward(self, query, key, value, mask):\n",
        "  query = self.w_q(query)\n",
        "  key = self.w_k(key)\n",
        "  value = self.w_v(value)\n",
        "\n",
        "  query = query.view(query.shape[0], query.shape[1], self.num_heads, self.d_k).transpose(1, 2)\n",
        "  key = key.view(key.shape[0], key.shape[1], self.num_heads, self.d_k).transpose(1, 2)\n",
        "  value = value.view(value.shape[0], value.shape[1], self.num_heads, self.d_k).transpose(1, 2)\n",
        "\n",
        "  x, self.attention_scores = MultiHeadAttention.attention(query, key, value, mask, self.dropout)\n",
        "\n",
        "  x = x.transpose(1, 2).contiguous().view(x.shape[0], -1, self.num_heads * self.d_k)\n",
        "\n",
        "  return self.w_o(x)"
      ],
      "metadata": {
        "id": "um2Oxv1axWYK"
      },
      "execution_count": null,
      "outputs": []
    },
    {
      "cell_type": "markdown",
      "source": [
        "### Combining it All Together"
      ],
      "metadata": {
        "id": "kgr_D0mmyEgp"
      }
    },
    {
      "cell_type": "code",
      "source": [
        "class MultiHeadAttention(nn.Module):\n",
        "  def __init__(self, d_model: int = 512, num_heads: int = 8, dropout: float = 0.1) -> None:\n",
        "    super().__init__()\n",
        "    self.d_model = d_model\n",
        "    self.num_heads = num_heads\n",
        "    assert d_model % num_heads == 0, \"d_model is not divisible by h\"\n",
        "\n",
        "    self.d_k = d_model // num_heads\n",
        "\n",
        "    self.w_q = nn.Linear(d_model, d_model, bias=False)\n",
        "    self.w_k = nn.Linear(d_model, d_model, bias=False)\n",
        "    self.w_v = nn.Linear(d_model, d_model, bias=False)\n",
        "\n",
        "    self.w_o = nn.Linear(d_model, d_model, bias=False)\n",
        "\n",
        "    self.dropout = nn.Dropout(dropout)\n",
        "\n",
        "  @staticmethod\n",
        "  def attention(query, key, value, mask, dropout: nn.Dropout = None):\n",
        "    d_k = query.shape[-1]\n",
        "\n",
        "    attention_scores = (query @ key.transpose(-2, -1)) / math.sqrt(d_k)\n",
        "\n",
        "    if mask is not None:\n",
        "      attention_scores.masked_fill_(mask == 0, -1e9)\n",
        "\n",
        "    attention_scores = attention_scores.softmax(dim=-1)\n",
        "\n",
        "    if dropout is not None:\n",
        "      attention_scores = dropout(attention_scores)\n",
        "\n",
        "    return (attention_scores @ value), attention_scores\n",
        "\n",
        "  def forward(self, query, key, value, mask):\n",
        "    query = self.w_q(query)\n",
        "    key = self.w_k(key)\n",
        "    value = self.w_v(value)\n",
        "\n",
        "    query = query.view(query.shape[0], query.shape[1], self.num_heads, self.d_k).transpose(1, 2)\n",
        "    key = key.view(key.shape[0], key.shape[1], self.num_heads, self.d_k).transpose(1, 2)\n",
        "    value = value.view(value.shape[0], value.shape[1], self.num_heads, self.d_k).transpose(1, 2)\n",
        "\n",
        "    x, self.attention_scores = MultiHeadAttention.attention(query, key, value, mask, self.dropout)\n",
        "\n",
        "    x = x.transpose(1, 2).contiguous().view(x.shape[0], -1, self.num_heads * self.d_k)\n",
        "\n",
        "    return self.w_o(x)"
      ],
      "metadata": {
        "id": "odYKdmwMyH4P"
      },
      "execution_count": null,
      "outputs": []
    },
    {
      "cell_type": "markdown",
      "source": [
        "### 👪❓Discussion Question 2:\n",
        "\n",
        "Work with your breakout room to build a visualization of the above `forward` pass - including dummy inputs.\n",
        "\n",
        "You can use drawing programs (like [Excalidraw](https://excalidraw.com/)), or write a visualization in code.\n",
        "\n",
        "> NOTE: LLMs like Claude 3.5 Sonnet is a fantastic tool to produce (and test) visualizations in it's [Web UI](https://claude.ai/new)!"
      ],
      "metadata": {
        "id": "ySBbU7Zo_x5T"
      }
    },
    {
      "cell_type": "markdown",
      "source": [
        "### Testing MultiHeadAttention\n",
        "\n",
        "Let's test it out!"
      ],
      "metadata": {
        "id": "qRFqoZyD1-AU"
      }
    },
    {
      "cell_type": "code",
      "source": [
        "def test_attention_mechanism():\n",
        "   mha = MultiHeadAttention(d_model=6, num_heads=2)\n",
        "\n",
        "   # Simple sequence: \"The cat sleeps\"\n",
        "   seq = torch.tensor([\n",
        "       [1.0, 1.0, 0.0, 0.0, 0.0, 0.0],\n",
        "       [0.0, 0.0, 1.0, 1.0, 0.0, 0.0],\n",
        "       [0.0, 0.0, 0.0, 0.0, 1.0, 1.0]\n",
        "   ]).unsqueeze(0)  # [1, 3, 6]\n",
        "\n",
        "   # Mask shape needs to match attention scores [batch, heads, seq_len, seq_len]\n",
        "   attention_scores = torch.ones(1, 2, 3, 3)  # 2 heads, sequence length 3\n",
        "\n",
        "   print(\"Input sequence shape:\", seq.shape)\n",
        "   print(\"Input values (each row is a word):\")\n",
        "   print(seq[0])\n",
        "\n",
        "   output = mha(seq, seq, seq, attention_scores)\n",
        "   print(\"\\nOutput after attention:\")\n",
        "   print(output[0])\n",
        "\n",
        "   # Verify output maintains shape but changes values\n",
        "   assert output.shape == seq.shape\n",
        "   assert not torch.allclose(output, seq)\n",
        "   print(\"✓ Multi-Head Attention Test Passed\")"
      ],
      "metadata": {
        "id": "sY1N60di2CHQ"
      },
      "execution_count": null,
      "outputs": []
    },
    {
      "cell_type": "code",
      "source": [
        "test_attention_mechanism()"
      ],
      "metadata": {
        "id": "2qEqn4BS2DHt"
      },
      "execution_count": null,
      "outputs": []
    },
    {
      "cell_type": "markdown",
      "source": [
        "## Encoder\n",
        "\n",
        "When we pass information through our model - the first thing we will do is Encode it by passing it through our Encoder Blocks.\n"
      ],
      "metadata": {
        "id": "EkKjLhpiyz5b"
      }
    },
    {
      "cell_type": "markdown",
      "source": [
        "### Encoder Block\n",
        "\n",
        "![image](https://i.imgur.com/nwNYZAT.png)\n",
        "\n",
        "The encoder takes in the source language sentence (e.g. English). Each word is converted into a vector representation using an embedding layer. Then a positional encoder adds information about the position of each word. This goes through multiple self-attention layers, where each word vector attends to all other word vectors to build contextual representations."
      ],
      "metadata": {
        "id": "f-0edIfMzijj"
      }
    },
    {
      "cell_type": "code",
      "source": [
        "class EncoderBlock(nn.Module):\n",
        "  def __init__(self, features: int, self_attention_block: MultiHeadAttention, feed_forward_block: FeedForwardBlock, dropout: float) -> None:\n",
        "    super().__init__()\n",
        "    self.self_attention_block = self_attention_block\n",
        "    self.feed_forward_block = feed_forward_block\n",
        "    self.residual_connections = nn.ModuleList([ResidualConnection(features, dropout) for _ in range(2)])\n",
        "\n",
        "  def forward(self, x, input_mask):\n",
        "    x = self.residual_connections[0](x, lambda x: self.self_attention_block(x, x, x, input_mask))\n",
        "    x = self.residual_connections[1](x, self.feed_forward_block)\n",
        "    return x"
      ],
      "metadata": {
        "id": "dMVnZiGDy1PG"
      },
      "execution_count": null,
      "outputs": []
    },
    {
      "cell_type": "markdown",
      "source": [
        "### Testing the EncoderBlock\n",
        "\n",
        "Testing time!"
      ],
      "metadata": {
        "id": "_twqqReS28ul"
      }
    },
    {
      "cell_type": "code",
      "source": [
        "def test_encoder_block():\n",
        "   # Create encoder block with small dimensions\n",
        "   mha = MultiHeadAttention(d_model=6, num_heads=2)\n",
        "   ff = FeedForwardBlock(d_model=6, d_ff=12)\n",
        "   encoder = EncoderBlock(features=6, self_attention_block=mha, feed_forward_block=ff, dropout=0.1)\n",
        "\n",
        "   # Input: \"The cat sleeps\"\n",
        "   x = torch.tensor([\n",
        "       [1.0, 1.0, 0.0, 0.0, 0.0, 0.0],  # \"The\"\n",
        "       [0.0, 0.0, 1.0, 1.0, 0.0, 0.0],  # \"cat\"\n",
        "       [0.0, 0.0, 0.0, 0.0, 1.0, 1.0]   # \"sleeps\"\n",
        "   ]).unsqueeze(0)\n",
        "\n",
        "   # Attention mask\n",
        "   mask = torch.ones(1, 2, 3, 3)  # Allow all connections\n",
        "\n",
        "   output = encoder(x, mask)\n",
        "\n",
        "   print(\"Input sequence:\")\n",
        "   print(x[0])\n",
        "   print(\"\\nAfter encoder processing (self-attention + feed-forward):\")\n",
        "   print(output[0])\n",
        "\n",
        "   assert output.shape == x.shape\n",
        "   assert not torch.allclose(output, x)\n",
        "   print(\"✓ Encoder Block Test Passed\")"
      ],
      "metadata": {
        "id": "PP_wq0R02_g0"
      },
      "execution_count": null,
      "outputs": []
    },
    {
      "cell_type": "code",
      "source": [
        "test_encoder_block()"
      ],
      "metadata": {
        "id": "DPAH-NKA3AEN"
      },
      "execution_count": null,
      "outputs": []
    },
    {
      "cell_type": "markdown",
      "source": [
        "### Encoder Stack\n",
        "\n",
        "Following along from the original paper - we will organize these blocks into a set of 6.\n",
        "\n",
        "These 6 Encoder Blocks (each with 8 Attention Heads) will comprise our Encoding Stack."
      ],
      "metadata": {
        "id": "a-AvnoPrzvwu"
      }
    },
    {
      "cell_type": "code",
      "source": [
        "class EncoderStack(nn.Module):\n",
        "  def __init__(self, features: int, layers: nn.ModuleList) -> None:\n",
        "    super().__init__()\n",
        "    self.layers = layers\n",
        "    self.norm = LayerNormalization(features)\n",
        "\n",
        "  def forward(self, x, mask):\n",
        "    for layer in self.layers:\n",
        "      x = layer(x, mask)\n",
        "    return self.norm(x)"
      ],
      "metadata": {
        "id": "kOaR5SjUzxv7"
      },
      "execution_count": null,
      "outputs": []
    },
    {
      "cell_type": "markdown",
      "source": [
        "## Decoder\n",
        "\n",
        "Next, we will take the encoded sequence and decode it through our Decoder Blocks."
      ],
      "metadata": {
        "id": "fQyujsRTz5NT"
      }
    },
    {
      "cell_type": "markdown",
      "source": [
        "### Decoder Block\n",
        "\n",
        "![image](https://i.imgur.com/HtAAXZc.png)\n",
        "\n",
        "The decoder takes in the target language sentence (e.g. Italian). It also converts words to vectors and adds positional info. Then it goes through self-attention layers. Here, a mask is applied so each word can only see the words before it, not after.\n",
        "\n",
        "The decoder also does attention over the encoder output. This allows each French word to find relevant connections with the English words."
      ],
      "metadata": {
        "id": "zBYgl77Kz6bx"
      }
    },
    {
      "cell_type": "code",
      "source": [
        "class DecoderBlock(nn.Module):\n",
        "  def __init__(self, features: int, self_attention_block: MultiHeadAttention, cross_attention_block: MultiHeadAttention, feed_forward_block: FeedForwardBlock, dropout: float) -> None:\n",
        "    super().__init__()\n",
        "    self.self_attention_block = self_attention_block\n",
        "    self.cross_attention_block = cross_attention_block\n",
        "    self.feed_forward_block = feed_forward_block\n",
        "    self.residual_connections = nn.ModuleList([ResidualConnection(features, dropout) for _ in range(3)])\n",
        "\n",
        "  def forward(self, x, encoder_output, input_mask, target_mask):\n",
        "    x = self.residual_connections[0](x, lambda x: self.self_attention_block(x, x, x, target_mask))\n",
        "    x = self.residual_connections[1](x, lambda x: self.cross_attention_block(x, encoder_output, encoder_output, input_mask))\n",
        "    x = self.residual_connections[2](x, self.feed_forward_block)\n",
        "    return x"
      ],
      "metadata": {
        "id": "SIwafbqzz5-n"
      },
      "execution_count": null,
      "outputs": []
    },
    {
      "cell_type": "markdown",
      "source": [
        "### Testing DecoderBlock\n",
        "\n",
        "You know what's up next...testing!"
      ],
      "metadata": {
        "id": "s0KkwjkM3xe7"
      }
    },
    {
      "cell_type": "code",
      "source": [
        "def test_decoder_block():\n",
        "   # Initialize components with small dimensions\n",
        "   self_attn = MultiHeadAttention(d_model=6, num_heads=2)\n",
        "   cross_attn = MultiHeadAttention(d_model=6, num_heads=2)\n",
        "   ff = FeedForwardBlock(d_model=6, d_ff=12)\n",
        "   decoder = DecoderBlock(features=6, self_attention_block=self_attn,\n",
        "                         cross_attention_block=cross_attn,\n",
        "                         feed_forward_block=ff, dropout=0.1)\n",
        "\n",
        "   # Input: \"El gato\" (target sequence)\n",
        "   x = torch.tensor([\n",
        "       [1.0, 1.0, 0.0, 0.0, 0.0, 0.0],  # \"El\"\n",
        "       [0.0, 0.0, 1.0, 1.0, 0.0, 0.0],  # \"gato\"\n",
        "   ]).unsqueeze(0)\n",
        "\n",
        "   # Encoder output: \"The cat\" (source sequence)\n",
        "   encoder_output = torch.tensor([\n",
        "       [1.0, 1.0, 0.0, 0.0, 0.0, 0.0],  # \"The\"\n",
        "       [0.0, 0.0, 1.0, 1.0, 0.0, 0.0],  # \"cat\"\n",
        "   ]).unsqueeze(0)\n",
        "\n",
        "   # Masks\n",
        "   src_mask = torch.ones(1, 2, 2, 2)  # Can attend to all encoder outputs\n",
        "   tgt_mask = torch.tril(torch.ones(1, 2, 2, 2))  # Can only attend to previous words\n",
        "\n",
        "   output = decoder(x, encoder_output, src_mask, tgt_mask)\n",
        "\n",
        "   print(\"Input target sequence:\")\n",
        "   print(x[0])\n",
        "   print(\"\\nSource (encoder) sequence:\")\n",
        "   print(encoder_output[0])\n",
        "   print(\"\\nDecoder output (after self-attention, cross-attention, and feed-forward):\")\n",
        "   print(output[0])\n",
        "\n",
        "   assert output.shape == x.shape\n",
        "   assert not torch.allclose(output, x)\n",
        "   print(\"✓ Decoder Block Test Passed\")"
      ],
      "metadata": {
        "id": "UnmnWAVl307S"
      },
      "execution_count": null,
      "outputs": []
    },
    {
      "cell_type": "code",
      "source": [
        "test_decoder_block()"
      ],
      "metadata": {
        "id": "COJlCq3033A2"
      },
      "execution_count": null,
      "outputs": []
    },
    {
      "cell_type": "markdown",
      "source": [
        "### Decoder Stack\n",
        "\n",
        "We'll use the same number of Decoder Blocks as we did Encoder Blocks - leaving us with 6 Deocder Blocks in our Decoder Stack."
      ],
      "metadata": {
        "id": "sa4yiTNn0BkA"
      }
    },
    {
      "cell_type": "code",
      "source": [
        "class DecoderStack(nn.Module):\n",
        "  def __init__(self, features: int, layers: nn.ModuleList) -> None:\n",
        "    super().__init__()\n",
        "    self.layers = layers\n",
        "    self.norm = LayerNormalization(features)\n",
        "\n",
        "  def forward(self, x, encoder_output, input_mask, target_mask):\n",
        "    for layer in self.layers:\n",
        "      x = layer(x, encoder_output, input_mask, target_mask)\n",
        "    return self.norm(x)"
      ],
      "metadata": {
        "id": "1QUXzOXk0CcT"
      },
      "execution_count": null,
      "outputs": []
    },
    {
      "cell_type": "markdown",
      "source": [
        "## Linear Projection Layer\n",
        "\n",
        "After the decoder's self-attention and encoder-decoder attention layers, we have a context vector representing each Italian word. This context vector has a high dimension (e.g. 512 or 1024).\n",
        "\n",
        "We want to take this context vector and generate a probability distribution over the French vocabulary so we can pick the next translated word.\n",
        "\n",
        "The linear projection layer helps with this. It projects the context vector into a much larger vector called the vocabulary distribution - one entry per word in the vocabulary.\n",
        "\n",
        "For example, if our Italian vocabulary has 50,000 words, the vocabulary distribution will have 50,000 dimensions. Each dimension corresponds to the probability of that Italian word being the correct translation."
      ],
      "metadata": {
        "id": "kRFiAP580S4b"
      }
    },
    {
      "cell_type": "code",
      "source": [
        "class LinearProjectionLayer(nn.Module):\n",
        "  def __init__(self, d_model, vocab_size) -> None:\n",
        "    super().__init__()\n",
        "    self.proj = nn.Linear(d_model, vocab_size)\n",
        "\n",
        "  def forward(self, x) -> None:\n",
        "    return self.proj(x)"
      ],
      "metadata": {
        "id": "tkBBMAZK0WLB"
      },
      "execution_count": null,
      "outputs": []
    },
    {
      "cell_type": "markdown",
      "source": [
        "## The Transformer\n",
        "\n",
        "At this point, all we need to do is create a class that represents our model!"
      ],
      "metadata": {
        "id": "v9ucsRWs0lG9"
      }
    },
    {
      "cell_type": "code",
      "source": [
        "class Transformer(nn.Module):\n",
        "  def __init__(self, encoder: EncoderBlock, decoder: DecoderBlock, src_embed: InputEmbeddings, tgt_embed: InputEmbeddings, src_pos: PositionalEncoding, tgt_pos: PositionalEncoding, projection_layer: LinearProjectionLayer) -> None:\n",
        "    super().__init__()\n",
        "    self.encoder = encoder\n",
        "    self.decoder = decoder\n",
        "    self.src_embed = src_embed\n",
        "    self.tgt_embed = tgt_embed\n",
        "    self.src_pos = src_pos\n",
        "    self.tgt_pos = tgt_pos\n",
        "    self.projection_layer = projection_layer\n",
        "\n",
        "  def encode(self, src, src_mask):\n",
        "    src = self.src_embed(src)\n",
        "    src = self.src_pos(src)\n",
        "    return self.encoder(src, src_mask)\n",
        "\n",
        "  def decode(self, encoder_output: torch.Tensor, src_mask: torch.Tensor, tgt: torch.Tensor, tgt_mask: torch.Tensor):\n",
        "    tgt = self.tgt_embed(tgt)\n",
        "    tgt = self.tgt_pos(tgt)\n",
        "    return self.decoder(tgt, encoder_output, src_mask, tgt_mask)\n",
        "\n",
        "  def project(self, x):\n",
        "    return self.projection_layer(x)"
      ],
      "metadata": {
        "id": "5ip11mmQ0nMM"
      },
      "execution_count": null,
      "outputs": []
    },
    {
      "cell_type": "markdown",
      "source": [
        "## Building Our Transformer\n",
        "\n",
        "Now that we have each of our components - we need to construct an actual model!\n",
        "\n",
        "We'll use this helper function to aid in our goal and set up our Encoder/Decoder Stacks!"
      ],
      "metadata": {
        "id": "4Ssr5nA039--"
      }
    },
    {
      "cell_type": "code",
      "source": [
        "def build_transformer(input_vocab_size: int, target_vocab_size: int, input_seq_len: int, target_seq_len: int, d_model: int=512, N: int=6, num_heads: int=8, dropout: float=0.1, d_ff: int=2048, verbose=True) -> Transformer:\n",
        "  input_embeddings = InputEmbeddings(d_model, input_vocab_size, verbose=verbose)\n",
        "  target_embeddings = InputEmbeddings(d_model, target_vocab_size)\n",
        "\n",
        "  input_position = PositionalEncoding(d_model, input_seq_len, dropout, verbose=verbose)\n",
        "  target_position = PositionalEncoding(d_model, target_seq_len, dropout)\n",
        "\n",
        "  encoder_blocks = []\n",
        "\n",
        "  for _ in range(N):\n",
        "    encoder_self_attention_block = MultiHeadAttention(d_model, num_heads, dropout)\n",
        "    feed_forward_block = FeedForwardBlock(d_model, d_ff, dropout)\n",
        "    encoder_block = EncoderBlock(d_model, encoder_self_attention_block, feed_forward_block, dropout)\n",
        "    encoder_blocks.append(encoder_block)\n",
        "\n",
        "  decoder_blocks = []\n",
        "\n",
        "  for _ in range(N):\n",
        "    decoder_self_attention_block = MultiHeadAttention(d_model, num_heads, dropout)\n",
        "    decoder_cross_attention_block = MultiHeadAttention(d_model, num_heads, dropout)\n",
        "    feed_forward_block = FeedForwardBlock(d_model, d_ff, dropout)\n",
        "    decoder_block = DecoderBlock(d_model, decoder_self_attention_block, decoder_cross_attention_block, feed_forward_block, dropout)\n",
        "    decoder_blocks.append(decoder_block)\n",
        "\n",
        "  encoder_stack = EncoderStack(d_model, nn.ModuleList(encoder_blocks))\n",
        "  decoder_stack = DecoderStack(d_model, nn.ModuleList(decoder_blocks))\n",
        "\n",
        "  linear_projection_layer = LinearProjectionLayer(d_model, target_vocab_size)\n",
        "\n",
        "  transformer = Transformer(encoder_stack, decoder_stack, input_embeddings, target_embeddings, input_position, target_position, linear_projection_layer)\n",
        "\n",
        "  for p in transformer.parameters():\n",
        "    if p.dim() > 1:\n",
        "      nn.init.xavier_uniform_(p)\n",
        "\n",
        "  return transformer"
      ],
      "metadata": {
        "id": "kdCt3wNi4EvY"
      },
      "execution_count": null,
      "outputs": []
    },
    {
      "cell_type": "markdown",
      "source": [
        "# Training Our Transformer!\n",
        "\n",
        "We will be using the resources created in [this](https://github.com/hkproj/pytorch-transformer/tree/main) repository to train our model on a English -> French translation task.\n",
        "\n"
      ],
      "metadata": {
        "id": "_2jfvmRx4ZNd"
      }
    },
    {
      "cell_type": "markdown",
      "source": [
        "## Dataset Creation\n",
        "\n",
        "The BilingualDataset is a custom PyTorch dataset for working with translation data. It needs a tokenizer for each language, a dataset of sentence pairs, info on which languages are source and target, and the max sequence length.\n",
        "\n",
        "This class handles tokenizing the sentences, padding them to be the same length, and getting the data into the right format for sequence-to-sequence models. It adds special start, end, and padding tokens so all the inputs and outputs are the same length.\n",
        "\n",
        "When you grab a sample from the dataset, it tokenizes the source and target sentences, pads them, and creates the input tensors the model needs - encoder input, decoder input, and target labels. It also makes masks to show what's real data vs padding, and to make sure the decoder predictions only use previous tokens, not future ones.\n",
        "\n",
        "The BilingualDataset gets the data ready for training seq2seq models in a way that works with the sequential nature of language. The model can only predict the next token based on what came before it, not after."
      ],
      "metadata": {
        "id": "SxF6JLcg5LJp"
      }
    },
    {
      "cell_type": "code",
      "source": [
        "from torch.utils.data import Dataset\n",
        "\n",
        "class BilingualDataset(Dataset):\n",
        "  def __init__(self, ds, tokenizer_src, tokenizer_tgt, src_lang, tgt_lang, seq_len):\n",
        "    super().__init__()\n",
        "    self.seq_len = seq_len\n",
        "\n",
        "    self.ds = ds\n",
        "    self.tokenizer_src = tokenizer_src\n",
        "    self.tokenizer_tgt = tokenizer_tgt\n",
        "    self.src_lang = src_lang\n",
        "    self.tgt_lang = tgt_lang\n",
        "\n",
        "    self.sos_token = torch.tensor([tokenizer_tgt.token_to_id(\"[SOS]\")], dtype=torch.int64)\n",
        "    self.eos_token = torch.tensor([tokenizer_tgt.token_to_id(\"[EOS]\")], dtype=torch.int64)\n",
        "    self.pad_token = torch.tensor([tokenizer_tgt.token_to_id(\"[PAD]\")], dtype=torch.int64)\n",
        "\n",
        "  def __len__(self):\n",
        "    return len(self.ds)\n",
        "\n",
        "  def __getitem__(self, idx):\n",
        "    src_target_pair = self.ds[idx]\n",
        "    src_text = src_target_pair['translation'][self.src_lang]\n",
        "    tgt_text = src_target_pair['translation'][self.tgt_lang]\n",
        "\n",
        "    enc_input_tokens = self.tokenizer_src.encode(src_text).ids\n",
        "    dec_input_tokens = self.tokenizer_tgt.encode(tgt_text).ids\n",
        "\n",
        "    enc_num_padding_tokens = self.seq_len - len(enc_input_tokens) - 2\n",
        "    dec_num_padding_tokens = self.seq_len - len(dec_input_tokens) - 1\n",
        "\n",
        "    if enc_num_padding_tokens < 0 or dec_num_padding_tokens < 0:\n",
        "        raise ValueError(\"Sentence is too long\")\n",
        "\n",
        "    encoder_input = torch.cat(\n",
        "        [\n",
        "            self.sos_token,\n",
        "            torch.tensor(enc_input_tokens, dtype=torch.int64),\n",
        "            self.eos_token,\n",
        "            torch.tensor([self.pad_token] * enc_num_padding_tokens, dtype=torch.int64),\n",
        "        ],\n",
        "        dim=0,\n",
        "    )\n",
        "\n",
        "    decoder_input = torch.cat(\n",
        "        [\n",
        "            self.sos_token,\n",
        "            torch.tensor(dec_input_tokens, dtype=torch.int64),\n",
        "            torch.tensor([self.pad_token] * dec_num_padding_tokens, dtype=torch.int64),\n",
        "        ],\n",
        "        dim=0,\n",
        "    )\n",
        "\n",
        "    label = torch.cat(\n",
        "        [\n",
        "            torch.tensor(dec_input_tokens, dtype=torch.int64),\n",
        "            self.eos_token,\n",
        "            torch.tensor([self.pad_token] * dec_num_padding_tokens, dtype=torch.int64),\n",
        "        ],\n",
        "        dim=0,\n",
        "    )\n",
        "\n",
        "    assert encoder_input.size(0) == self.seq_len\n",
        "    assert decoder_input.size(0) == self.seq_len\n",
        "    assert label.size(0) == self.seq_len\n",
        "\n",
        "    return {\n",
        "        \"encoder_input\": encoder_input,\n",
        "        \"decoder_input\": decoder_input,\n",
        "        \"encoder_mask\": (encoder_input != self.pad_token).unsqueeze(0).unsqueeze(0).int(),\n",
        "        \"decoder_mask\": (decoder_input != self.pad_token).unsqueeze(0).int() & causal_mask(decoder_input.size(0)),\n",
        "        \"label\": label,\n",
        "        \"src_text\": src_text,\n",
        "        \"tgt_text\": tgt_text,\n",
        "    }\n",
        "\n",
        "def causal_mask(size):\n",
        "  mask = torch.triu(torch.ones((1, size, size)), diagonal=1).type(torch.int)\n",
        "  return mask == 0"
      ],
      "metadata": {
        "id": "WLnUZRgk7S-G"
      },
      "execution_count": null,
      "outputs": []
    },
    {
      "cell_type": "markdown",
      "source": [
        "## Build Tokenizer For Training"
      ],
      "metadata": {
        "id": "E0hSYI7F8IAI"
      }
    },
    {
      "cell_type": "code",
      "source": [
        "!pip install transformers tokenizers datasets -qU"
      ],
      "metadata": {
        "id": "QfmUwnpo8qou"
      },
      "execution_count": null,
      "outputs": []
    },
    {
      "cell_type": "markdown",
      "source": [
        "This will grab all the sentences from our dataset per language."
      ],
      "metadata": {
        "id": "1TCDOGq0UD1W"
      }
    },
    {
      "cell_type": "code",
      "source": [
        "def get_all_sentences(ds, lang):\n",
        "    for item in ds:\n",
        "        yield item['translation'][lang]"
      ],
      "metadata": {
        "id": "iAUUEXFz8eGH"
      },
      "execution_count": null,
      "outputs": []
    },
    {
      "cell_type": "markdown",
      "source": [
        "We'll quickly train a tokenizer on our dataset for both our source and target languages.\n",
        "\n",
        "We'll be sure to add the `[UNK]`, `[PAD]`, `[SOS]`, and `[EOS]` special tokens."
      ],
      "metadata": {
        "id": "vUDKOCTVUIa7"
      }
    },
    {
      "cell_type": "code",
      "source": [
        "from datasets import load_dataset\n",
        "from tokenizers import Tokenizer\n",
        "from tokenizers.models import WordLevel\n",
        "from tokenizers.trainers import WordLevelTrainer\n",
        "from tokenizers.pre_tokenizers import Whitespace\n",
        "\n",
        "def build_tokenizer(config, ds, lang):\n",
        "  tokenizer = Tokenizer(WordLevel(unk_token=\"[UNK]\"))\n",
        "  tokenizer.pre_tokenizer = Whitespace()\n",
        "  trainer = WordLevelTrainer(special_tokens=[\"[UNK]\", \"[PAD]\", \"[SOS]\", \"[EOS]\"], min_frequency=2)\n",
        "  tokenizer.train_from_iterator(get_all_sentences(ds, lang), trainer=trainer)\n",
        "  return tokenizer"
      ],
      "metadata": {
        "id": "4s1ZHzKb8hTN"
      },
      "execution_count": null,
      "outputs": []
    },
    {
      "cell_type": "markdown",
      "source": [
        "Now we can create our dataset in a format that our model expects and can train with!"
      ],
      "metadata": {
        "id": "MEUDihkcVRq1"
      }
    },
    {
      "cell_type": "code",
      "source": [
        "from torch.utils.data import DataLoader, random_split\n",
        "\n",
        "def get_ds(config):\n",
        "  # It only has the train split, so we divide it overselves\n",
        "  ds_raw = load_dataset(f\"{config['datasource']}\", f\"{config['lang_src']}-{config['lang_tgt']}\", split='train')\n",
        "\n",
        "  # Build tokenizers\n",
        "  tokenizer_src = build_tokenizer(config, ds_raw, config['lang_src'])\n",
        "  tokenizer_tgt = build_tokenizer(config, ds_raw, config['lang_tgt'])\n",
        "\n",
        "  # Keep 90% for training, 10% for validation\n",
        "  train_ds_size = int(0.9 * len(ds_raw))\n",
        "  val_ds_size = len(ds_raw) - train_ds_size\n",
        "  train_ds_raw, val_ds_raw = random_split(ds_raw, [train_ds_size, val_ds_size])\n",
        "\n",
        "  train_ds = BilingualDataset(train_ds_raw, tokenizer_src, tokenizer_tgt, config['lang_src'], config['lang_tgt'], config['seq_len'])\n",
        "  val_ds = BilingualDataset(val_ds_raw, tokenizer_src, tokenizer_tgt, config['lang_src'], config['lang_tgt'], config['seq_len'])\n",
        "\n",
        "  # Find the maximum length of each sentence in the source and target sentence\n",
        "  max_len_src = 0\n",
        "  max_len_tgt = 0\n",
        "\n",
        "  for item in ds_raw:\n",
        "    src_ids = tokenizer_src.encode(item['translation'][config['lang_src']]).ids\n",
        "    tgt_ids = tokenizer_tgt.encode(item['translation'][config['lang_tgt']]).ids\n",
        "    max_len_src = max(max_len_src, len(src_ids))\n",
        "    max_len_tgt = max(max_len_tgt, len(tgt_ids))\n",
        "\n",
        "  print(f'Max length of source sentence: {max_len_src}')\n",
        "  print(f'Max length of target sentence: {max_len_tgt}')\n",
        "\n",
        "\n",
        "  train_dataloader = DataLoader(train_ds, batch_size=config['batch_size'], shuffle=True)\n",
        "  val_dataloader = DataLoader(val_ds, batch_size=1, shuffle=True)\n",
        "\n",
        "  return train_dataloader, val_dataloader, tokenizer_src, tokenizer_tgt"
      ],
      "metadata": {
        "id": "yI7xXnLo84cE"
      },
      "execution_count": null,
      "outputs": []
    },
    {
      "cell_type": "markdown",
      "source": [
        "We can build our model with this helper function."
      ],
      "metadata": {
        "id": "cr3Ys-ufVW1E"
      }
    },
    {
      "cell_type": "code",
      "source": [
        "def get_model(config, vocab_src_len, vocab_tgt_len):\n",
        "  model = build_transformer(vocab_src_len, vocab_tgt_len, config[\"seq_len\"], config['seq_len'], d_model=config['d_model'], verbose=False)\n",
        "  return model"
      ],
      "metadata": {
        "id": "FK6k5X829JOo"
      },
      "execution_count": null,
      "outputs": []
    },
    {
      "cell_type": "code",
      "source": [
        "def get_weights_file_path(config, epoch: str):\n",
        "  model_folder = f\"{config['datasource']}_{config['model_folder']}\"\n",
        "  model_filename = f\"{config['model_basename']}{epoch}.pt\"\n",
        "  return str(Path('.') / model_folder / model_filename)"
      ],
      "metadata": {
        "id": "JCALGXpf9tnv"
      },
      "execution_count": null,
      "outputs": []
    },
    {
      "cell_type": "code",
      "source": [
        "def latest_weights_file_path(config):\n",
        "  model_folder = f\"{config['datasource']}_{config['model_folder']}\"\n",
        "  model_filename = f\"{config['model_basename']}*\"\n",
        "  weights_files = list(Path(model_folder).glob(model_filename))\n",
        "  if len(weights_files) == 0:\n",
        "      return None\n",
        "  weights_files.sort()\n",
        "  return str(weights_files[-1])"
      ],
      "metadata": {
        "id": "QPWZgCwD9vVX"
      },
      "execution_count": null,
      "outputs": []
    },
    {
      "cell_type": "markdown",
      "source": [
        "Finally....our training loop!\n",
        "\n",
        "We'll spend more time in following weeks discussing this - for now, we'll quickly walk through what's happening:\n",
        "\n",
        "1. Configure the training device (GPU/CPU) and print details. Set device in PyTorch.\n",
        "\n",
        "2. Create directory for saving model weights based on config.\n",
        "\n",
        "3. Get data loaders, tokenizers, and model. Move model to configured device.\n",
        "\n",
        "4. Initialize Adam optimizer with learning rate and epsilon from config.\n",
        "\n",
        "5. Set up initial training parameters like start epoch and global step.\n",
        "\n",
        "6. Define cross-entropy loss function with label smoothing, ignoring padding.\n",
        "\n",
        "---\n",
        "\n",
        "- Main training loop over epochs:\n",
        "\n",
        "  - Clear cache, set model to train mode, initialize progress bar.\n",
        "\n",
        "  - For each batch:\n",
        "\n",
        "    - Move data to device, run model forward/backward passes.\n",
        "    - Compute loss, backprop, update model weights.\n",
        "    - Increment global step.\n",
        "  - After each epoch, save model and optimizer checkpoint."
      ],
      "metadata": {
        "id": "BNjAS-LvV557"
      }
    },
    {
      "cell_type": "code",
      "source": [
        "import warnings\n",
        "from tqdm import tqdm\n",
        "import os\n",
        "from pathlib import Path\n",
        "\n",
        "def train_model(config):\n",
        "  # Define the device\n",
        "  device = \"cuda\" if torch.cuda.is_available() else \"mps\" if torch.has_mps or torch.backends.mps.is_available() else \"cpu\"\n",
        "  print(\"Using device:\", device)\n",
        "  if (device == 'cuda'):\n",
        "    print(f\"Device name: {torch.cuda.get_device_name(device.index)}\")\n",
        "    print(f\"Device memory: {torch.cuda.get_device_properties(device.index).total_memory / 1024 ** 3} GB\")\n",
        "  else:\n",
        "    print(\"Please ensure you're in a GPU enabled Colab Notebook instance.\")\n",
        "  device = torch.device(device)\n",
        "\n",
        "  # Make sure the weights folder exists\n",
        "  Path(f\"{config['datasource']}_{config['model_folder']}\").mkdir(parents=True, exist_ok=True)\n",
        "\n",
        "  train_dataloader, val_dataloader, tokenizer_src, tokenizer_tgt = get_ds(config)\n",
        "  model = get_model(config, tokenizer_src.get_vocab_size(), tokenizer_tgt.get_vocab_size()).to(device)\n",
        "\n",
        "  optimizer = torch.optim.Adam(model.parameters(), lr=config['lr'], eps=1e-9)\n",
        "\n",
        "  initial_epoch = 0\n",
        "  global_step = 0\n",
        "\n",
        "  loss_fn = nn.CrossEntropyLoss(ignore_index=tokenizer_src.token_to_id('[PAD]'), label_smoothing=0.1).to(device)\n",
        "\n",
        "  for epoch in range(initial_epoch, config['num_epochs']):\n",
        "    torch.cuda.empty_cache()\n",
        "    model.train()\n",
        "    batch_iterator = tqdm(train_dataloader, desc=f\"Processing Epoch {epoch:02d}\")\n",
        "    for batch in batch_iterator:\n",
        "      encoder_input = batch['encoder_input'].to(device)\n",
        "      decoder_input = batch['decoder_input'].to(device)\n",
        "      encoder_mask = batch['encoder_mask'].to(device)\n",
        "      decoder_mask = batch['decoder_mask'].to(device)\n",
        "\n",
        "      encoder_output = model.encode(encoder_input, encoder_mask)\n",
        "      decoder_output = model.decode(encoder_output, encoder_mask, decoder_input, decoder_mask)\n",
        "      proj_output = model.project(decoder_output)\n",
        "\n",
        "      label = batch['label'].to(device)\n",
        "\n",
        "      loss = loss_fn(proj_output.view(-1, tokenizer_tgt.get_vocab_size()), label.view(-1))\n",
        "      batch_iterator.set_postfix({\"loss\": f\"{loss.item():6.3f}\"})\n",
        "\n",
        "      loss.backward()\n",
        "\n",
        "      optimizer.step()\n",
        "      optimizer.zero_grad(set_to_none=True)\n",
        "\n",
        "      global_step += 1\n",
        "\n",
        "    model_filename = get_weights_file_path(config, f\"{epoch:02d}\")\n",
        "    torch.save({\n",
        "      'epoch': epoch,\n",
        "      'model_state_dict': model.state_dict(),\n",
        "      'optimizer_state_dict': optimizer.state_dict(),\n",
        "      'global_step': global_step\n",
        "    }, model_filename)"
      ],
      "metadata": {
        "id": "gL1bH7is9OfS"
      },
      "execution_count": null,
      "outputs": []
    },
    {
      "cell_type": "code",
      "source": [
        "config = {\n",
        "  \"batch_size\": 64,\n",
        "  \"num_epochs\": 6,\n",
        "  \"lr\": 1e-4,\n",
        "  \"seq_len\": 350,\n",
        "  \"d_model\": 512,\n",
        "  \"datasource\": 'opus_books',\n",
        "  \"lang_src\": \"en\",\n",
        "  \"lang_tgt\": \"it\",\n",
        "  \"model_folder\": \"trained__en_it_translation_model\",\n",
        "  \"model_basename\": \"encoder_decoder_model_\"\n",
        "}"
      ],
      "metadata": {
        "id": "f21pxGoS9-gM"
      },
      "execution_count": null,
      "outputs": []
    },
    {
      "cell_type": "code",
      "source": [
        "train_model(config)"
      ],
      "metadata": {
        "id": "hfBcSHUo-MU6"
      },
      "execution_count": null,
      "outputs": []
    },
    {
      "cell_type": "code",
      "source": [
        "def load_model(config):\n",
        "    # Get dataloaders and tokenizers\n",
        "    _, _, tokenizer_src, tokenizer_tgt = get_ds(config)\n",
        "\n",
        "    # Initialize model\n",
        "    model = get_model(config, tokenizer_src.get_vocab_size(), tokenizer_tgt.get_vocab_size())\n",
        "\n",
        "    # Load trained weights\n",
        "    model_filename = latest_weights_file_path(config)\n",
        "    if model_filename:\n",
        "        print(f\"Loading weights from {model_filename}\")\n",
        "        state = torch.load(model_filename)\n",
        "        model.load_state_dict(state['model_state_dict'])\n",
        "\n",
        "    device = torch.device('cuda' if torch.cuda.is_available() else 'cpu')\n",
        "    model.to(device)\n",
        "    return model, tokenizer_src, tokenizer_tgt, device\n",
        "\n",
        "def generate(model, tokenizer_src, tokenizer_tgt, src_text, device, max_length=350):\n",
        "    model.eval()\n",
        "\n",
        "    enc_input = tokenizer_src.encode(src_text).ids\n",
        "    enc_input = torch.tensor([tokenizer_src.token_to_id('[SOS]')] + enc_input + [tokenizer_src.token_to_id('[EOS]')]).unsqueeze(0)\n",
        "\n",
        "    enc_mask = (enc_input != tokenizer_src.token_to_id('[PAD]')).unsqueeze(0).unsqueeze(0).int()\n",
        "\n",
        "    enc_input = enc_input.to(device)\n",
        "    enc_mask = enc_mask.to(device)\n",
        "\n",
        "    with torch.no_grad():\n",
        "        enc_output = model.encode(enc_input, enc_mask)\n",
        "        dec_input = torch.tensor([[tokenizer_tgt.token_to_id('[SOS]')]]).to(device)\n",
        "\n",
        "        for _ in range(max_length):\n",
        "            dec_mask = causal_mask(dec_input.size(1)).to(device)\n",
        "\n",
        "            dec_output = model.decode(enc_output, enc_mask, dec_input, dec_mask)\n",
        "            proj_output = model.project(dec_output)\n",
        "\n",
        "            next_word = proj_output[:, -1].argmax(dim=-1)\n",
        "            dec_input = torch.cat([dec_input, next_word.unsqueeze(-1)], dim=1)\n",
        "\n",
        "            if next_word.item() == tokenizer_tgt.token_to_id('[EOS]'):\n",
        "                break\n",
        "\n",
        "    translated_tokens = [tokenizer_tgt.id_to_token(t.item()) for t in dec_input[0]]\n",
        "    translated_text = ' '.join([t for t in translated_tokens if t not in ['[SOS]', '[EOS]', '[PAD]']])\n",
        "\n",
        "    return translated_text\n",
        "\n",
        "\n",
        "model, tokenizer_src, tokenizer_tgt, device = load_model(config)\n",
        "model.eval()"
      ],
      "metadata": {
        "id": "FT_QNpmqzAxe"
      },
      "execution_count": null,
      "outputs": []
    },
    {
      "cell_type": "code",
      "source": [
        "test_sentences = [\n",
        "        \"the weather is beautiful today\",\n",
        "        \"how are you?\"\n",
        "    ]\n",
        "\n",
        "print(\"English to Italian Translations:\")\n",
        "print(\"-\" * 50)\n",
        "for sentence in test_sentences:\n",
        "    translation = generate(model, tokenizer_src, tokenizer_tgt, sentence, device)\n",
        "    print(f\"EN: {sentence}\")\n",
        "    print(f\"IT: {translation}\")\n",
        "    print(\"-\" * 50)"
      ],
      "metadata": {
        "id": "-B1hXBPhsd4p"
      },
      "execution_count": null,
      "outputs": []
    },
    {
      "cell_type": "markdown",
      "source": [
        "#### Acknowledgements\n",
        "\n",
        "This notebook is heavily adapted from a number of incredible resources on Transformers, including but not limited to:\n",
        "\n",
        "- https://blog.floydhub.com/the-transformer-in-pytorch/\n",
        "- https://arxiv.org/pdf/1706.03762.pdf\n",
        "- https://txt.cohere.com/what-are-transformer-models/\n",
        "- https://jalammar.github.io/illustrated-transformer/"
      ],
      "metadata": {
        "id": "Z9Cofqp53bQB"
      }
    }
  ]
}